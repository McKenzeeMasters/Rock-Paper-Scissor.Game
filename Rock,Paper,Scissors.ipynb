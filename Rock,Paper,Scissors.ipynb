{
 "cells": [
  {
   "cell_type": "markdown",
   "id": "d4ebd47f",
   "metadata": {},
   "source": [
    "# Rock, Paper, Scissors \n",
    "## By: Jaden Wilkins, McKenzee Masters, Hannah Garrett"
   ]
  },
  {
   "cell_type": "code",
   "execution_count": 1,
   "id": "b45fd148",
   "metadata": {},
   "outputs": [
    {
     "name": "stdout",
     "output_type": "stream",
     "text": [
      "Choose Rock, Paper, or Scissors: Rock\n",
      "Tie!\n",
      "Would you like to play again? (yes/no)yes\n",
      "Choose Rock, Paper, or Scissors: Sciccors\n",
      "You Lost!\n",
      "Would you like to play again? (yes/no)yes\n",
      "Choose Rock, Paper, or Scissors: Paper\n",
      "You Won!\n",
      "Would you like to play again? (yes/no)no\n"
     ]
    }
   ],
   "source": [
    "import random\n",
    "com_choice=random.randint(1,3)\n",
    "entered_choice=None\n",
    "game=True\n",
    "\n",
    "while game:\n",
    "    entered_choice=input(\"Choose Rock, Paper, or Scissors: \")\n",
    "    if entered_choice=='Rock':\n",
    "        x=1\n",
    "    elif entered_choice=='Paper':\n",
    "        x=2\n",
    "    else:\n",
    "        x=3\n",
    "   \n",
    "    if com_choice==1:\n",
    "        if x==1:\n",
    "            print(\"Tie!\")\n",
    "        elif x==2:\n",
    "            print(\"You Won!\")\n",
    "        else:\n",
    "            print(\"You Lost!\")\n",
    "    elif com_choice==2:\n",
    "        if x==2:\n",
    "            print(\"Tie!\")\n",
    "        elif x==1:\n",
    "            print(\"You Lost!\")\n",
    "        else:\n",
    "            print(\"You Won!\")\n",
    "    else:\n",
    "        if x==3:\n",
    "            print(\"Tie!\")\n",
    "        elif x==1:\n",
    "            print(\"You Won!\")\n",
    "        else:\n",
    "            print(\"You lost!\")\n",
    "    repeat= input(\"Would you like to play again? (yes/no) \")\n",
    "    if repeat=='no':\n",
    "        game=False\n",
    "    \n"
   ]
  },
  {
   "cell_type": "code",
   "execution_count": null,
   "id": "f463dbab",
   "metadata": {},
   "outputs": [],
   "source": []
  }
 ],
 "metadata": {
  "kernelspec": {
   "display_name": "Python 3 (ipykernel)",
   "language": "python",
   "name": "python3"
  },
  "language_info": {
   "codemirror_mode": {
    "name": "ipython",
    "version": 3
   },
   "file_extension": ".py",
   "mimetype": "text/x-python",
   "name": "python",
   "nbconvert_exporter": "python",
   "pygments_lexer": "ipython3",
   "version": "3.9.12"
  }
 },
 "nbformat": 4,
 "nbformat_minor": 5
}
